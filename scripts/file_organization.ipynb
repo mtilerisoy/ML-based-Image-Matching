{
 "cells": [
  {
   "cell_type": "markdown",
   "metadata": {},
   "source": [
    "# File Organization"
   ]
  },
  {
   "cell_type": "code",
   "execution_count": null,
   "metadata": {},
   "outputs": [],
   "source": [
    "import os\n",
    "\n",
    "def rename_files(source_dir):\n",
    "    \"\"\"\n",
    "    Renames all jpg files in the source directory with their Design Labels.\n",
    "\n",
    "    Parameters:\n",
    "    source_dir: str, the path to the directory containing the jpg files.\n",
    "\n",
    "    Returns:\n",
    "    None\n",
    "    \"\"\"\n",
    "    \n",
    "    # List all files in the source directory\n",
    "    files = os.listdir(source_dir)\n",
    "    \n",
    "    for file in files:\n",
    "\n",
    "        # Check if the file is a jpg\n",
    "        if file.endswith('.jpg') or file.endswith('.jp2'):\n",
    "\n",
    "            # Get the file extension\n",
    "            _, ext = os.path.splitext(file)\n",
    "\n",
    "            # Skip the first VL in the file name\n",
    "            first_vl_index = file.find('VL')\n",
    "\n",
    "            # Find the next VL in the file name\n",
    "            if first_vl_index != -1:\n",
    "                start_index = file.find('VL', first_vl_index + 2)\n",
    "                if start_index != -1:\n",
    "                    end_index = file.find('.', start_index)\n",
    "                    new_name = file[start_index:end_index] if end_index != -1 else file[start_index:]\n",
    "\n",
    "                    # Rename the file\n",
    "                    original_file_path = os.path.join(source_dir, file)\n",
    "                    new_file_path = os.path.join(source_dir, new_name + ext)\n",
    "                    os.rename(original_file_path, new_file_path)\n",
    "\n",
    "\n",
    "def process_filenames(folder_path):\n",
    "    # Iterate through each file in the folder\n",
    "    for filename in os.listdir(folder_path):\n",
    "        # Split the filename into parts based on the underscore\n",
    "        parts = filename.split('_')\n",
    "        \n",
    "        # Ensure the filename has the correct number of parts\n",
    "        if len(parts) >= 4:\n",
    "            # Extract the part between the second and third underscore\n",
    "            target_part = parts[2]\n",
    "            \n",
    "            # Replace the dot with an underscore in the extracted part\n",
    "            new_part = target_part.replace('.', '_')\n",
    "            \n",
    "            # Get the file extension\n",
    "            file_extension = os.path.splitext(filename)[1]\n",
    "            \n",
    "            # Construct the new filename\n",
    "            new_filename = f\"{new_part}{file_extension}\"\n",
    "            \n",
    "            # Print or rename the file as needed\n",
    "            print(f\"Original filename: {filename}\")\n",
    "            print(f\"Processed filename: {new_filename}\\n\")\n",
    "            \n",
    "            # To actually rename the file, uncomment the next line\n",
    "            os.rename(os.path.join(folder_path, filename), os.path.join(folder_path, new_filename))"
   ]
  },
  {
   "cell_type": "code",
   "execution_count": null,
   "metadata": {},
   "outputs": [],
   "source": [
    "folder_path = '..data/raw/models'\n",
    "process_filenames(folder_path)\n"
   ]
  }
 ],
 "metadata": {
  "language_info": {
   "name": "python"
  }
 },
 "nbformat": 4,
 "nbformat_minor": 2
}
